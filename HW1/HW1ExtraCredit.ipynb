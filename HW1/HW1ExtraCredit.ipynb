{
  "nbformat": 4,
  "nbformat_minor": 0,
  "metadata": {
    "colab": {
      "name": "HW1ExtraCredit.ipynb",
      "provenance": [],
      "authorship_tag": "ABX9TyMS88hi8gz/YMoUFcu8kO6z",
      "include_colab_link": true
    },
    "kernelspec": {
      "name": "python3",
      "display_name": "Python 3"
    }
  },
  "cells": [
    {
      "cell_type": "markdown",
      "metadata": {
        "id": "view-in-github",
        "colab_type": "text"
      },
      "source": [
        "<a href=\"https://colab.research.google.com/github/fedhere/MLTSA_FBianco/blob/master/HW1/HW1ExtraCredit.ipynb\" target=\"_parent\"><img src=\"https://colab.research.google.com/assets/colab-badge.svg\" alt=\"Open In Colab\"/></a>"
      ]
    },
    {
      "cell_type": "markdown",
      "metadata": {
        "id": "z0R0TGbtWEPn",
        "colab_type": "text"
      },
      "source": [
        "MLTSA UDel PHYS667 Sprint 2020"
      ]
    },
    {
      "cell_type": "markdown",
      "metadata": {
        "id": "k8oMoAaaWKIs",
        "colab_type": "text"
      },
      "source": [
        "HW1 Extra Credit :"
      ]
    },
    {
      "cell_type": "markdown",
      "metadata": {
        "id": "rVdc0fnvWNEZ",
        "colab_type": "text"
      },
      "source": [
        "Solve Exercise 1, 2, 3 from https://arxiv.org/pdf/1008.4686.pdf"
      ]
    }
  ]
}