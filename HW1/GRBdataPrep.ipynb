{
 "cells": [
  {
   "cell_type": "code",
   "execution_count": 2,
   "metadata": {
    "ExecuteTime": {
     "end_time": "2020-02-12T11:31:42.315861Z",
     "start_time": "2020-02-12T11:31:41.651211Z"
    }
   },
   "outputs": [
    {
     "name": "stdout",
     "output_type": "stream",
     "text": [
      "Populating the interactive namespace from numpy and matplotlib\n"
     ]
    }
   ],
   "source": [
    "import pandas as pd\n",
    "import pylab as pl\n",
    "import matplotlib as mpl\n",
    "%pylab inline"
   ]
  },
  {
   "cell_type": "markdown",
   "metadata": {},
   "source": []
  },
  {
   "cell_type": "code",
   "execution_count": 3,
   "metadata": {
    "ExecuteTime": {
     "end_time": "2020-02-12T11:31:42.332045Z",
     "start_time": "2020-02-12T11:31:42.317560Z"
    }
   },
   "outputs": [],
   "source": [
    "grb050525A = pd.read_csv(\"grb050525A.dat\", sep=\" \", header=None)"
   ]
  },
  {
   "cell_type": "code",
   "execution_count": 4,
   "metadata": {
    "ExecuteTime": {
     "end_time": "2020-02-12T11:31:42.530047Z",
     "start_time": "2020-02-12T11:31:42.349692Z"
    }
   },
   "outputs": [
    {
     "data": {
      "text/plain": [
       "<matplotlib.axes._subplots.AxesSubplot at 0x119d70198>"
      ]
     },
     "execution_count": 4,
     "metadata": {},
     "output_type": "execute_result"
    },
    {
     "data": {
      "image/png": "[encoded data removed]",
      "text/plain": [
       "<Figure size 432x288 with 1 Axes>"
      ]
     },
     "metadata": {
      "needs_background": "light"
     },
     "output_type": "display_data"
    }
   ],
   "source": [
    "grb050525A.plot(x=0)"
   ]
  },
  {
   "cell_type": "code",
   "execution_count": 5,
   "metadata": {
    "ExecuteTime": {
     "end_time": "2020-02-12T11:31:42.576059Z",
     "start_time": "2020-02-12T11:31:42.564343Z"
    }
   },
   "outputs": [
    {
     "data": {
      "text/html": [
       "<div>\n",
       "<style scoped>\n",
       "    .dataframe tbody tr th:only-of-type {\n",
       "        vertical-align: middle;\n",
       "    }\n",
       "\n",
       "    .dataframe tbody tr th {\n",
       "        vertical-align: top;\n",
       "    }\n",
       "\n",
       "    .dataframe thead th {\n",
       "        text-align: right;\n",
       "    }\n",
       "</style>\n",
       "<table border=\"1\" class=\"dataframe\">\n",
       "  <thead>\n",
       "    <tr style=\"text-align: right;\">\n",
       "      <th></th>\n",
       "      <th>0</th>\n",
       "      <th>1</th>\n",
       "      <th>2</th>\n",
       "      <th>3</th>\n",
       "      <th>4</th>\n",
       "      <th>5</th>\n",
       "      <th>6</th>\n",
       "      <th>7</th>\n",
       "      <th>8</th>\n",
       "      <th>9</th>\n",
       "      <th>10</th>\n",
       "    </tr>\n",
       "  </thead>\n",
       "  <tbody>\n",
       "    <tr>\n",
       "      <th>0</th>\n",
       "      <td>-298.556</td>\n",
       "      <td>0.005023</td>\n",
       "      <td>0.008178</td>\n",
       "      <td>-0.001165</td>\n",
       "      <td>0.008340</td>\n",
       "      <td>0.009040</td>\n",
       "      <td>0.008142</td>\n",
       "      <td>0.013983</td>\n",
       "      <td>0.008230</td>\n",
       "      <td>0.026882</td>\n",
       "      <td>0.016446</td>\n",
       "    </tr>\n",
       "    <tr>\n",
       "      <th>1</th>\n",
       "      <td>-297.556</td>\n",
       "      <td>-0.005947</td>\n",
       "      <td>0.008011</td>\n",
       "      <td>0.008888</td>\n",
       "      <td>0.008477</td>\n",
       "      <td>0.014794</td>\n",
       "      <td>0.008025</td>\n",
       "      <td>0.010334</td>\n",
       "      <td>0.008280</td>\n",
       "      <td>0.028069</td>\n",
       "      <td>0.016401</td>\n",
       "    </tr>\n",
       "    <tr>\n",
       "      <th>2</th>\n",
       "      <td>-296.556</td>\n",
       "      <td>-0.005508</td>\n",
       "      <td>0.007847</td>\n",
       "      <td>0.001759</td>\n",
       "      <td>0.008327</td>\n",
       "      <td>-0.004056</td>\n",
       "      <td>0.007848</td>\n",
       "      <td>0.000811</td>\n",
       "      <td>0.008458</td>\n",
       "      <td>-0.006994</td>\n",
       "      <td>0.016249</td>\n",
       "    </tr>\n",
       "    <tr>\n",
       "      <th>3</th>\n",
       "      <td>-295.556</td>\n",
       "      <td>-0.001119</td>\n",
       "      <td>0.008253</td>\n",
       "      <td>-0.006670</td>\n",
       "      <td>0.008211</td>\n",
       "      <td>0.004374</td>\n",
       "      <td>0.008147</td>\n",
       "      <td>-0.010784</td>\n",
       "      <td>0.008375</td>\n",
       "      <td>-0.014198</td>\n",
       "      <td>0.016494</td>\n",
       "    </tr>\n",
       "    <tr>\n",
       "      <th>4</th>\n",
       "      <td>-294.556</td>\n",
       "      <td>0.006988</td>\n",
       "      <td>0.007975</td>\n",
       "      <td>-0.004426</td>\n",
       "      <td>0.008203</td>\n",
       "      <td>0.008548</td>\n",
       "      <td>0.007683</td>\n",
       "      <td>0.009081</td>\n",
       "      <td>0.008370</td>\n",
       "      <td>0.020191</td>\n",
       "      <td>0.016124</td>\n",
       "    </tr>\n",
       "  </tbody>\n",
       "</table>\n",
       "</div>"
      ],
      "text/plain": [
       "        0         1         2         3         4         5         6   \\\n",
       "0 -298.556  0.005023  0.008178 -0.001165  0.008340  0.009040  0.008142   \n",
       "1 -297.556 -0.005947  0.008011  0.008888  0.008477  0.014794  0.008025   \n",
       "2 -296.556 -0.005508  0.007847  0.001759  0.008327 -0.004056  0.007848   \n",
       "3 -295.556 -0.001119  0.008253 -0.006670  0.008211  0.004374  0.008147   \n",
       "4 -294.556  0.006988  0.007975 -0.004426  0.008203  0.008548  0.007683   \n",
       "\n",
       "         7         8         9         10  \n",
       "0  0.013983  0.008230  0.026882  0.016446  \n",
       "1  0.010334  0.008280  0.028069  0.016401  \n",
       "2  0.000811  0.008458 -0.006994  0.016249  \n",
       "3 -0.010784  0.008375 -0.014198  0.016494  \n",
       "4  0.009081  0.008370  0.020191  0.016124  "
      ]
     },
     "execution_count": 5,
     "metadata": {},
     "output_type": "execute_result"
    }
   ],
   "source": [
    "grb050525A.head()"
   ]
  },
  {
   "cell_type": "code",
   "execution_count": 6,
   "metadata": {
    "ExecuteTime": {
     "end_time": "2020-02-12T11:31:42.820904Z",
     "start_time": "2020-02-12T11:31:42.813597Z"
    }
   },
   "outputs": [],
   "source": [
    "grb050525A = pd.read_csv(\"grb050525A_all.dat\", sep=\" \", header=None, names=[\n",
    "    \"filter\", \"time\", \"exposure\", \"mag\", \"magerr\", \"flux\", \"fluxerr\", \"None\"], index_col=None)"
   ]
  },
  {
   "cell_type": "code",
   "execution_count": 7,
   "metadata": {
    "ExecuteTime": {
     "end_time": "2020-02-12T11:31:43.417638Z",
     "start_time": "2020-02-12T11:31:43.406628Z"
    }
   },
   "outputs": [
    {
     "data": {
      "text/html": [
       "<div>\n",
       "<style scoped>\n",
       "    .dataframe tbody tr th:only-of-type {\n",
       "        vertical-align: middle;\n",
       "    }\n",
       "\n",
       "    .dataframe tbody tr th {\n",
       "        vertical-align: top;\n",
       "    }\n",
       "\n",
       "    .dataframe thead th {\n",
       "        text-align: right;\n",
       "    }\n",
       "</style>\n",
       "<table border=\"1\" class=\"dataframe\">\n",
       "  <thead>\n",
       "    <tr style=\"text-align: right;\">\n",
       "      <th></th>\n",
       "      <th>time</th>\n",
       "      <th>mag</th>\n",
       "      <th>filter</th>\n",
       "    </tr>\n",
       "  </thead>\n",
       "  <tbody>\n",
       "    <tr>\n",
       "      <th>60</th>\n",
       "      <td>215</td>\n",
       "      <td>13.70</td>\n",
       "      <td>U</td>\n",
       "    </tr>\n",
       "    <tr>\n",
       "      <th>61</th>\n",
       "      <td>299</td>\n",
       "      <td>14.08</td>\n",
       "      <td>U</td>\n",
       "    </tr>\n",
       "    <tr>\n",
       "      <th>62</th>\n",
       "      <td>419</td>\n",
       "      <td>14.47</td>\n",
       "      <td>U</td>\n",
       "    </tr>\n",
       "    <tr>\n",
       "      <th>63</th>\n",
       "      <td>890</td>\n",
       "      <td>15.29</td>\n",
       "      <td>U</td>\n",
       "    </tr>\n",
       "    <tr>\n",
       "      <th>64</th>\n",
       "      <td>975</td>\n",
       "      <td>15.32</td>\n",
       "      <td>U</td>\n",
       "    </tr>\n",
       "    <tr>\n",
       "      <th>65</th>\n",
       "      <td>12019</td>\n",
       "      <td>17.66</td>\n",
       "      <td>U</td>\n",
       "    </tr>\n",
       "    <tr>\n",
       "      <th>66</th>\n",
       "      <td>468</td>\n",
       "      <td>14.71</td>\n",
       "      <td>U</td>\n",
       "    </tr>\n",
       "    <tr>\n",
       "      <th>67</th>\n",
       "      <td>552</td>\n",
       "      <td>14.97</td>\n",
       "      <td>U</td>\n",
       "    </tr>\n",
       "    <tr>\n",
       "      <th>68</th>\n",
       "      <td>637</td>\n",
       "      <td>15.01</td>\n",
       "      <td>U</td>\n",
       "    </tr>\n",
       "    <tr>\n",
       "      <th>69</th>\n",
       "      <td>721</td>\n",
       "      <td>15.14</td>\n",
       "      <td>U</td>\n",
       "    </tr>\n",
       "    <tr>\n",
       "      <th>70</th>\n",
       "      <td>805</td>\n",
       "      <td>15.46</td>\n",
       "      <td>U</td>\n",
       "    </tr>\n",
       "    <tr>\n",
       "      <th>71</th>\n",
       "      <td>28664</td>\n",
       "      <td>18.85</td>\n",
       "      <td>U</td>\n",
       "    </tr>\n",
       "    <tr>\n",
       "      <th>72</th>\n",
       "      <td>29380</td>\n",
       "      <td>18.79</td>\n",
       "      <td>U</td>\n",
       "    </tr>\n",
       "    <tr>\n",
       "      <th>73</th>\n",
       "      <td>41040</td>\n",
       "      <td>19.99</td>\n",
       "      <td>U</td>\n",
       "    </tr>\n",
       "    <tr>\n",
       "      <th>74</th>\n",
       "      <td>52994</td>\n",
       "      <td>&gt;</td>\n",
       "      <td>U</td>\n",
       "    </tr>\n",
       "    <tr>\n",
       "      <th>75</th>\n",
       "      <td>128928</td>\n",
       "      <td>&gt;</td>\n",
       "      <td>U</td>\n",
       "    </tr>\n",
       "    <tr>\n",
       "      <th>76</th>\n",
       "      <td>202</td>\n",
       "      <td>13.61</td>\n",
       "      <td>W1</td>\n",
       "    </tr>\n",
       "    <tr>\n",
       "      <th>77</th>\n",
       "      <td>286</td>\n",
       "      <td>14.18</td>\n",
       "      <td>W1</td>\n",
       "    </tr>\n",
       "    <tr>\n",
       "      <th>78</th>\n",
       "      <td>370</td>\n",
       "      <td>14.77</td>\n",
       "      <td>W1</td>\n",
       "    </tr>\n",
       "    <tr>\n",
       "      <th>79</th>\n",
       "      <td>455</td>\n",
       "      <td>15.10</td>\n",
       "      <td>W1</td>\n",
       "    </tr>\n",
       "    <tr>\n",
       "      <th>80</th>\n",
       "      <td>539</td>\n",
       "      <td>15.22</td>\n",
       "      <td>W1</td>\n",
       "    </tr>\n",
       "    <tr>\n",
       "      <th>81</th>\n",
       "      <td>624</td>\n",
       "      <td>15.26</td>\n",
       "      <td>W1</td>\n",
       "    </tr>\n",
       "    <tr>\n",
       "      <th>82</th>\n",
       "      <td>708</td>\n",
       "      <td>15.22</td>\n",
       "      <td>W1</td>\n",
       "    </tr>\n",
       "    <tr>\n",
       "      <th>83</th>\n",
       "      <td>792</td>\n",
       "      <td>15.88</td>\n",
       "      <td>W1</td>\n",
       "    </tr>\n",
       "    <tr>\n",
       "      <th>84</th>\n",
       "      <td>877</td>\n",
       "      <td>16.15</td>\n",
       "      <td>W1</td>\n",
       "    </tr>\n",
       "    <tr>\n",
       "      <th>85</th>\n",
       "      <td>961</td>\n",
       "      <td>15.76</td>\n",
       "      <td>W1</td>\n",
       "    </tr>\n",
       "    <tr>\n",
       "      <th>86</th>\n",
       "      <td>6761</td>\n",
       "      <td>17.33</td>\n",
       "      <td>W1</td>\n",
       "    </tr>\n",
       "    <tr>\n",
       "      <th>87</th>\n",
       "      <td>28111</td>\n",
       "      <td>19.49</td>\n",
       "      <td>W1</td>\n",
       "    </tr>\n",
       "    <tr>\n",
       "      <th>88</th>\n",
       "      <td>40585</td>\n",
       "      <td>20.33</td>\n",
       "      <td>W1</td>\n",
       "    </tr>\n",
       "    <tr>\n",
       "      <th>89</th>\n",
       "      <td>52100</td>\n",
       "      <td>&gt;</td>\n",
       "      <td>W1</td>\n",
       "    </tr>\n",
       "  </tbody>\n",
       "</table>\n",
       "</div>"
      ],
      "text/plain": [
       "      time    mag filter\n",
       "60     215  13.70      U\n",
       "61     299  14.08      U\n",
       "62     419  14.47      U\n",
       "63     890  15.29      U\n",
       "64     975  15.32      U\n",
       "65   12019  17.66      U\n",
       "66     468  14.71      U\n",
       "67     552  14.97      U\n",
       "68     637  15.01      U\n",
       "69     721  15.14      U\n",
       "70     805  15.46      U\n",
       "71   28664  18.85      U\n",
       "72   29380  18.79      U\n",
       "73   41040  19.99      U\n",
       "74   52994      >      U\n",
       "75  128928      >      U\n",
       "76     202  13.61     W1\n",
       "77     286  14.18     W1\n",
       "78     370  14.77     W1\n",
       "79     455  15.10     W1\n",
       "80     539  15.22     W1\n",
       "81     624  15.26     W1\n",
       "82     708  15.22     W1\n",
       "83     792  15.88     W1\n",
       "84     877  16.15     W1\n",
       "85     961  15.76     W1\n",
       "86    6761  17.33     W1\n",
       "87   28111  19.49     W1\n",
       "88   40585  20.33     W1\n",
       "89   52100      >     W1"
      ]
     },
     "execution_count": 7,
     "metadata": {},
     "output_type": "execute_result"
    }
   ],
   "source": [
    "grb050525A[[\"time\",\"mag\", \"filter\"]][60:90]"
   ]
  },
  {
   "cell_type": "code",
   "execution_count": 27,
   "metadata": {
    "ExecuteTime": {
     "end_time": "2020-02-12T11:57:48.120857Z",
     "start_time": "2020-02-12T11:57:48.114364Z"
    }
   },
   "outputs": [],
   "source": []
  },
  {
   "cell_type": "code",
   "execution_count": 37,
   "metadata": {
    "ExecuteTime": {
     "end_time": "2020-02-12T12:21:19.374108Z",
     "start_time": "2020-02-12T12:21:19.369395Z"
    }
   },
   "outputs": [],
   "source": [
    "def linint(x, mag, earlier, later):\n",
    "    x0 = earlier.logtime.values[-1]\n",
    "    x1 = later.logtime.values[0]\n",
    "    y0 = earlier.mag.values[-1]\n",
    "    y1 = later.mag.values[0]\n",
    "    y = y0 + (x - x0) * (y1 - y0) / (x1 - x0) \n",
    "    magdiff = (y - mag)\n",
    "    return magdiff"
   ]
  },
  {
   "cell_type": "code",
   "execution_count": 38,
   "metadata": {
    "ExecuteTime": {
     "end_time": "2020-02-12T12:21:19.913484Z",
     "start_time": "2020-02-12T12:21:19.903887Z"
    }
   },
   "outputs": [
    {
     "data": {
      "text/plain": [
       "(1.0, 0.0, 0.0, 1)"
      ]
     },
     "execution_count": 38,
     "metadata": {},
     "output_type": "execute_result"
    }
   ],
   "source": [
    "mpl.colors.to_rgba(\"r\", alpha=1)\n"
   ]
  },
  {
   "cell_type": "code",
   "execution_count": 39,
   "metadata": {
    "ExecuteTime": {
     "end_time": "2020-02-12T12:21:20.180729Z",
     "start_time": "2020-02-12T12:21:20.120402Z"
    }
   },
   "outputs": [],
   "source": [
    "grb050525A[\"flux\"] = pd.to_numeric(grb050525A[\"flux\"], errors=\"coerce\")\n",
    "grb050525A[\"mag\"] = pd.to_numeric(grb050525A[\"mag\"], errors=\"coerce\")\n",
    "grb050525A[\"newmag\"] = grb050525A[\"mag\"]\n",
    "grb050525A[\"uplimmag\"] = np.nan * len(grb050525A)\n",
    "grb050525A.loc[grb050525A[grb050525A.mag.isna()].index, \"uplimmag\"] = \\\n",
    "    grb050525A[grb050525A.mag.isna()].magerr\n",
    "grb050525A[\"color\"] = grb050525A[\"filter\"].map({\"V\":\"r\", \"B\":\"m\", \"U\":\"c\", \"W1\":\"purple\", \n",
    "                                                \"M2\":\"b\", \"W2\":\"k\"})\n",
    "grb050525A[\"upperlimit\"] = [0] * len(grb050525A)\n",
    "\n",
    "grb050525A.loc[grb050525A[\"mag\"].isna(),  \"upperlimit\"] = 1\n",
    "\n",
    "grb050525A[\"rgbcolor\"] = grb050525A[\"color\"].apply(lambda x: mpl.colors.to_rgba(x, 0.5))\n",
    "grb050525A[\"logtime\"] = np.log10(grb050525A[\"time\"])\n",
    "grb050525A[\"logflux\"] = np.log10(grb050525A[\"flux\"])\n",
    "\n",
    "for c in grb050525A[\"filter\"].unique():\n",
    "    if c == \"V\": continue\n",
    "    t0 = grb050525A[grb050525A[\"filter\"] == c].logtime.values[0] \n",
    "    m0 = grb050525A[grb050525A[\"filter\"] == c].mag.values[0]\n",
    "    later = grb050525A[grb050525A[\"filter\"] == \"V\"][\n",
    "        grb050525A[grb050525A[\"filter\"] == \"V\"].logtime > t0]\n",
    "    earlier = grb050525A[grb050525A[\"filter\"] == \"V\"][\n",
    "        grb050525A[grb050525A[\"filter\"] == \"V\"].logtime < t0]\n",
    "    #print (t0, \"\\n\", later, earlier)\n",
    "    mdiff = linint(t0, m0, earlier, later)\n",
    "    ind = grb050525A[grb050525A[\"filter\"] == c].index\n",
    "    grb050525A.loc[ind, \"newmag\"] += mdiff \n",
    "    grb050525A.loc[ind, \"uplimmag\"] -= mdiff \n",
    "\n",
    "#for f in grb050525A[\"mag\"].values"
   ]
  },
  {
   "cell_type": "code",
   "execution_count": null,
   "metadata": {},
   "outputs": [],
   "source": []
  },
  {
   "cell_type": "code",
   "execution_count": 40,
   "metadata": {
    "ExecuteTime": {
     "end_time": "2020-02-12T12:21:21.118971Z",
     "start_time": "2020-02-12T12:21:20.945196Z"
    }
   },
   "outputs": [
    {
     "data": {
      "image/png": "[encoded data removed]",
      "text/plain": [
       "<Figure size 720x720 with 1 Axes>"
      ]
     },
     "metadata": {
      "needs_background": "light"
     },
     "output_type": "display_data"
    }
   ],
   "source": [
    "pl.figure(figsize=(10,10))\n",
    "ind = grb050525A.magerr > 0#(grb050525A[\"filter\"] == \"V\")+ (grb050525A[\"filter\"]  == \"B\") + \\\n",
    "      #     (grb050525A[\"filter\"]  == \"U\")\n",
    "pl.errorbar(grb050525A[\"logtime\"], grb050525A[\"newmag\"], \n",
    "            alpha=1, yerr=grb050525A[\"magerr\"], fmt='.', ms=0,\n",
    "            ecolor=grb050525A[\"color\"], fcolor=None)\n",
    "pl.scatter(grb050525A[\"logtime\"], grb050525A[\"newmag\"], alpha=1, \n",
    "           edgecolor=grb050525A[\"color\"], facecolors='none')\n",
    "nuplim = grb050525A.mag.isna().sum()\n",
    "for i in grb050525A[grb050525A.mag.isna()].index:\n",
    "    pl.arrow(grb050525A.loc[i].logtime, \n",
    "         grb050525A.loc[i].uplimmag, 0, 1, fc=grb050525A.loc[i].color,\n",
    "            head_width=0.05, head_length=0.1, ec=grb050525A.loc[i].color)\n",
    "pl.ylim(23,10)\n",
    "pl.ylabel(\"magnitude\")\n",
    "pl.xlabel(\"log time\");"
   ]
  },
  {
   "cell_type": "code",
   "execution_count": 41,
   "metadata": {
    "ExecuteTime": {
     "end_time": "2020-02-12T12:21:21.202175Z",
     "start_time": "2020-02-12T12:21:21.185083Z"
    }
   },
   "outputs": [
    {
     "data": {
      "text/html": [
       "<div>\n",
       "<style scoped>\n",
       "    .dataframe tbody tr th:only-of-type {\n",
       "        vertical-align: middle;\n",
       "    }\n",
       "\n",
       "    .dataframe tbody tr th {\n",
       "        vertical-align: top;\n",
       "    }\n",
       "\n",
       "    .dataframe thead th {\n",
       "        text-align: right;\n",
       "    }\n",
       "</style>\n",
       "<table border=\"1\" class=\"dataframe\">\n",
       "  <thead>\n",
       "    <tr style=\"text-align: right;\">\n",
       "      <th></th>\n",
       "      <th>filter</th>\n",
       "      <th>time</th>\n",
       "      <th>newmag</th>\n",
       "      <th>magerr</th>\n",
       "      <th>upperlimit</th>\n",
       "    </tr>\n",
       "  </thead>\n",
       "  <tbody>\n",
       "    <tr>\n",
       "      <th>0</th>\n",
       "      <td>V</td>\n",
       "      <td>66</td>\n",
       "      <td>13.210000</td>\n",
       "      <td>0.24</td>\n",
       "      <td>0</td>\n",
       "    </tr>\n",
       "    <tr>\n",
       "      <th>1</th>\n",
       "      <td>V</td>\n",
       "      <td>67</td>\n",
       "      <td>12.900000</td>\n",
       "      <td>0.23</td>\n",
       "      <td>0</td>\n",
       "    </tr>\n",
       "    <tr>\n",
       "      <th>2</th>\n",
       "      <td>V</td>\n",
       "      <td>68</td>\n",
       "      <td>12.860000</td>\n",
       "      <td>0.23</td>\n",
       "      <td>0</td>\n",
       "    </tr>\n",
       "    <tr>\n",
       "      <th>3</th>\n",
       "      <td>V</td>\n",
       "      <td>69</td>\n",
       "      <td>13.010000</td>\n",
       "      <td>0.23</td>\n",
       "      <td>0</td>\n",
       "    </tr>\n",
       "    <tr>\n",
       "      <th>4</th>\n",
       "      <td>V</td>\n",
       "      <td>70</td>\n",
       "      <td>12.970000</td>\n",
       "      <td>0.23</td>\n",
       "      <td>0</td>\n",
       "    </tr>\n",
       "    <tr>\n",
       "      <th>5</th>\n",
       "      <td>V</td>\n",
       "      <td>71</td>\n",
       "      <td>13.310000</td>\n",
       "      <td>0.23</td>\n",
       "      <td>0</td>\n",
       "    </tr>\n",
       "    <tr>\n",
       "      <th>6</th>\n",
       "      <td>V</td>\n",
       "      <td>72</td>\n",
       "      <td>13.130000</td>\n",
       "      <td>0.23</td>\n",
       "      <td>0</td>\n",
       "    </tr>\n",
       "    <tr>\n",
       "      <th>7</th>\n",
       "      <td>V</td>\n",
       "      <td>73</td>\n",
       "      <td>13.010000</td>\n",
       "      <td>0.23</td>\n",
       "      <td>0</td>\n",
       "    </tr>\n",
       "    <tr>\n",
       "      <th>8</th>\n",
       "      <td>V</td>\n",
       "      <td>78</td>\n",
       "      <td>13.130000</td>\n",
       "      <td>0.10</td>\n",
       "      <td>0</td>\n",
       "    </tr>\n",
       "    <tr>\n",
       "      <th>9</th>\n",
       "      <td>V</td>\n",
       "      <td>83</td>\n",
       "      <td>13.260000</td>\n",
       "      <td>0.10</td>\n",
       "      <td>0</td>\n",
       "    </tr>\n",
       "    <tr>\n",
       "      <th>10</th>\n",
       "      <td>V</td>\n",
       "      <td>88</td>\n",
       "      <td>13.180000</td>\n",
       "      <td>0.10</td>\n",
       "      <td>0</td>\n",
       "    </tr>\n",
       "    <tr>\n",
       "      <th>11</th>\n",
       "      <td>V</td>\n",
       "      <td>93</td>\n",
       "      <td>13.240000</td>\n",
       "      <td>0.11</td>\n",
       "      <td>0</td>\n",
       "    </tr>\n",
       "    <tr>\n",
       "      <th>12</th>\n",
       "      <td>V</td>\n",
       "      <td>98</td>\n",
       "      <td>13.250000</td>\n",
       "      <td>0.11</td>\n",
       "      <td>0</td>\n",
       "    </tr>\n",
       "    <tr>\n",
       "      <th>13</th>\n",
       "      <td>V</td>\n",
       "      <td>103</td>\n",
       "      <td>13.510000</td>\n",
       "      <td>0.11</td>\n",
       "      <td>0</td>\n",
       "    </tr>\n",
       "    <tr>\n",
       "      <th>14</th>\n",
       "      <td>V</td>\n",
       "      <td>108</td>\n",
       "      <td>13.440000</td>\n",
       "      <td>0.11</td>\n",
       "      <td>0</td>\n",
       "    </tr>\n",
       "    <tr>\n",
       "      <th>15</th>\n",
       "      <td>V</td>\n",
       "      <td>113</td>\n",
       "      <td>13.670000</td>\n",
       "      <td>0.11</td>\n",
       "      <td>0</td>\n",
       "    </tr>\n",
       "    <tr>\n",
       "      <th>16</th>\n",
       "      <td>V</td>\n",
       "      <td>118</td>\n",
       "      <td>13.480000</td>\n",
       "      <td>0.11</td>\n",
       "      <td>0</td>\n",
       "    </tr>\n",
       "    <tr>\n",
       "      <th>17</th>\n",
       "      <td>V</td>\n",
       "      <td>123</td>\n",
       "      <td>13.620000</td>\n",
       "      <td>0.11</td>\n",
       "      <td>0</td>\n",
       "    </tr>\n",
       "    <tr>\n",
       "      <th>18</th>\n",
       "      <td>V</td>\n",
       "      <td>128</td>\n",
       "      <td>13.860000</td>\n",
       "      <td>0.12</td>\n",
       "      <td>0</td>\n",
       "    </tr>\n",
       "    <tr>\n",
       "      <th>19</th>\n",
       "      <td>V</td>\n",
       "      <td>133</td>\n",
       "      <td>13.700000</td>\n",
       "      <td>0.11</td>\n",
       "      <td>0</td>\n",
       "    </tr>\n",
       "    <tr>\n",
       "      <th>20</th>\n",
       "      <td>V</td>\n",
       "      <td>138</td>\n",
       "      <td>13.830000</td>\n",
       "      <td>0.12</td>\n",
       "      <td>0</td>\n",
       "    </tr>\n",
       "    <tr>\n",
       "      <th>21</th>\n",
       "      <td>V</td>\n",
       "      <td>143</td>\n",
       "      <td>13.810000</td>\n",
       "      <td>0.12</td>\n",
       "      <td>0</td>\n",
       "    </tr>\n",
       "    <tr>\n",
       "      <th>22</th>\n",
       "      <td>V</td>\n",
       "      <td>148</td>\n",
       "      <td>13.840000</td>\n",
       "      <td>0.12</td>\n",
       "      <td>0</td>\n",
       "    </tr>\n",
       "    <tr>\n",
       "      <th>23</th>\n",
       "      <td>V</td>\n",
       "      <td>153</td>\n",
       "      <td>13.870000</td>\n",
       "      <td>0.12</td>\n",
       "      <td>0</td>\n",
       "    </tr>\n",
       "    <tr>\n",
       "      <th>24</th>\n",
       "      <td>V</td>\n",
       "      <td>158</td>\n",
       "      <td>14.060000</td>\n",
       "      <td>0.12</td>\n",
       "      <td>0</td>\n",
       "    </tr>\n",
       "    <tr>\n",
       "      <th>25</th>\n",
       "      <td>V</td>\n",
       "      <td>163</td>\n",
       "      <td>14.000000</td>\n",
       "      <td>0.12</td>\n",
       "      <td>0</td>\n",
       "    </tr>\n",
       "    <tr>\n",
       "      <th>26</th>\n",
       "      <td>V</td>\n",
       "      <td>168</td>\n",
       "      <td>14.010000</td>\n",
       "      <td>0.12</td>\n",
       "      <td>0</td>\n",
       "    </tr>\n",
       "    <tr>\n",
       "      <th>27</th>\n",
       "      <td>V</td>\n",
       "      <td>173</td>\n",
       "      <td>14.080000</td>\n",
       "      <td>0.13</td>\n",
       "      <td>0</td>\n",
       "    </tr>\n",
       "    <tr>\n",
       "      <th>28</th>\n",
       "      <td>V</td>\n",
       "      <td>258</td>\n",
       "      <td>14.640000</td>\n",
       "      <td>0.14</td>\n",
       "      <td>0</td>\n",
       "    </tr>\n",
       "    <tr>\n",
       "      <th>29</th>\n",
       "      <td>V</td>\n",
       "      <td>342</td>\n",
       "      <td>14.790000</td>\n",
       "      <td>0.15</td>\n",
       "      <td>0</td>\n",
       "    </tr>\n",
       "    <tr>\n",
       "      <th>...</th>\n",
       "      <td>...</td>\n",
       "      <td>...</td>\n",
       "      <td>...</td>\n",
       "      <td>...</td>\n",
       "      <td>...</td>\n",
       "    </tr>\n",
       "    <tr>\n",
       "      <th>89</th>\n",
       "      <td>W1</td>\n",
       "      <td>52100</td>\n",
       "      <td>NaN</td>\n",
       "      <td>21.05</td>\n",
       "      <td>1</td>\n",
       "    </tr>\n",
       "    <tr>\n",
       "      <th>90</th>\n",
       "      <td>W1</td>\n",
       "      <td>63738</td>\n",
       "      <td>NaN</td>\n",
       "      <td>21.20</td>\n",
       "      <td>1</td>\n",
       "    </tr>\n",
       "    <tr>\n",
       "      <th>91</th>\n",
       "      <td>M2</td>\n",
       "      <td>187</td>\n",
       "      <td>14.189034</td>\n",
       "      <td>0.10</td>\n",
       "      <td>0</td>\n",
       "    </tr>\n",
       "    <tr>\n",
       "      <th>92</th>\n",
       "      <td>M2</td>\n",
       "      <td>272</td>\n",
       "      <td>14.969034</td>\n",
       "      <td>0.14</td>\n",
       "      <td>0</td>\n",
       "    </tr>\n",
       "    <tr>\n",
       "      <th>93</th>\n",
       "      <td>M2</td>\n",
       "      <td>356</td>\n",
       "      <td>15.249034</td>\n",
       "      <td>0.16</td>\n",
       "      <td>0</td>\n",
       "    </tr>\n",
       "    <tr>\n",
       "      <th>94</th>\n",
       "      <td>M2</td>\n",
       "      <td>440</td>\n",
       "      <td>15.589034</td>\n",
       "      <td>0.19</td>\n",
       "      <td>0</td>\n",
       "    </tr>\n",
       "    <tr>\n",
       "      <th>95</th>\n",
       "      <td>M2</td>\n",
       "      <td>525</td>\n",
       "      <td>16.489034</td>\n",
       "      <td>0.30</td>\n",
       "      <td>0</td>\n",
       "    </tr>\n",
       "    <tr>\n",
       "      <th>96</th>\n",
       "      <td>M2</td>\n",
       "      <td>609</td>\n",
       "      <td>15.549034</td>\n",
       "      <td>0.19</td>\n",
       "      <td>0</td>\n",
       "    </tr>\n",
       "    <tr>\n",
       "      <th>97</th>\n",
       "      <td>M2</td>\n",
       "      <td>694</td>\n",
       "      <td>15.829034</td>\n",
       "      <td>0.21</td>\n",
       "      <td>0</td>\n",
       "    </tr>\n",
       "    <tr>\n",
       "      <th>98</th>\n",
       "      <td>M2</td>\n",
       "      <td>778</td>\n",
       "      <td>16.159034</td>\n",
       "      <td>0.26</td>\n",
       "      <td>0</td>\n",
       "    </tr>\n",
       "    <tr>\n",
       "      <th>99</th>\n",
       "      <td>M2</td>\n",
       "      <td>863</td>\n",
       "      <td>16.219034</td>\n",
       "      <td>0.26</td>\n",
       "      <td>0</td>\n",
       "    </tr>\n",
       "    <tr>\n",
       "      <th>100</th>\n",
       "      <td>M2</td>\n",
       "      <td>947</td>\n",
       "      <td>16.309034</td>\n",
       "      <td>0.27</td>\n",
       "      <td>0</td>\n",
       "    </tr>\n",
       "    <tr>\n",
       "      <th>101</th>\n",
       "      <td>M2</td>\n",
       "      <td>5984</td>\n",
       "      <td>17.749034</td>\n",
       "      <td>0.06</td>\n",
       "      <td>0</td>\n",
       "    </tr>\n",
       "    <tr>\n",
       "      <th>102</th>\n",
       "      <td>M2</td>\n",
       "      <td>24007</td>\n",
       "      <td>19.609034</td>\n",
       "      <td>0.19</td>\n",
       "      <td>0</td>\n",
       "    </tr>\n",
       "    <tr>\n",
       "      <th>103</th>\n",
       "      <td>M2</td>\n",
       "      <td>39683</td>\n",
       "      <td>20.369034</td>\n",
       "      <td>0.30</td>\n",
       "      <td>0</td>\n",
       "    </tr>\n",
       "    <tr>\n",
       "      <th>104</th>\n",
       "      <td>M2</td>\n",
       "      <td>51257</td>\n",
       "      <td>20.989034</td>\n",
       "      <td>0.48</td>\n",
       "      <td>0</td>\n",
       "    </tr>\n",
       "    <tr>\n",
       "      <th>105</th>\n",
       "      <td>M2</td>\n",
       "      <td>74798</td>\n",
       "      <td>NaN</td>\n",
       "      <td>21.59</td>\n",
       "      <td>1</td>\n",
       "    </tr>\n",
       "    <tr>\n",
       "      <th>106</th>\n",
       "      <td>W2</td>\n",
       "      <td>245</td>\n",
       "      <td>14.567558</td>\n",
       "      <td>0.11</td>\n",
       "      <td>0</td>\n",
       "    </tr>\n",
       "    <tr>\n",
       "      <th>107</th>\n",
       "      <td>W2</td>\n",
       "      <td>329</td>\n",
       "      <td>15.177558</td>\n",
       "      <td>0.16</td>\n",
       "      <td>0</td>\n",
       "    </tr>\n",
       "    <tr>\n",
       "      <th>108</th>\n",
       "      <td>W2</td>\n",
       "      <td>413</td>\n",
       "      <td>15.007558</td>\n",
       "      <td>0.14</td>\n",
       "      <td>0</td>\n",
       "    </tr>\n",
       "    <tr>\n",
       "      <th>109</th>\n",
       "      <td>W2</td>\n",
       "      <td>498</td>\n",
       "      <td>15.477558</td>\n",
       "      <td>0.18</td>\n",
       "      <td>0</td>\n",
       "    </tr>\n",
       "    <tr>\n",
       "      <th>110</th>\n",
       "      <td>W2</td>\n",
       "      <td>582</td>\n",
       "      <td>15.097558</td>\n",
       "      <td>0.15</td>\n",
       "      <td>0</td>\n",
       "    </tr>\n",
       "    <tr>\n",
       "      <th>111</th>\n",
       "      <td>W2</td>\n",
       "      <td>666</td>\n",
       "      <td>15.677558</td>\n",
       "      <td>0.20</td>\n",
       "      <td>0</td>\n",
       "    </tr>\n",
       "    <tr>\n",
       "      <th>112</th>\n",
       "      <td>W2</td>\n",
       "      <td>751</td>\n",
       "      <td>15.597558</td>\n",
       "      <td>0.19</td>\n",
       "      <td>0</td>\n",
       "    </tr>\n",
       "    <tr>\n",
       "      <th>113</th>\n",
       "      <td>W2</td>\n",
       "      <td>835</td>\n",
       "      <td>16.307558</td>\n",
       "      <td>0.27</td>\n",
       "      <td>0</td>\n",
       "    </tr>\n",
       "    <tr>\n",
       "      <th>114</th>\n",
       "      <td>W2</td>\n",
       "      <td>920</td>\n",
       "      <td>16.087558</td>\n",
       "      <td>0.25</td>\n",
       "      <td>0</td>\n",
       "    </tr>\n",
       "    <tr>\n",
       "      <th>115</th>\n",
       "      <td>W2</td>\n",
       "      <td>1140</td>\n",
       "      <td>16.227558</td>\n",
       "      <td>0.08</td>\n",
       "      <td>0</td>\n",
       "    </tr>\n",
       "    <tr>\n",
       "      <th>116</th>\n",
       "      <td>W2</td>\n",
       "      <td>17973</td>\n",
       "      <td>18.867558</td>\n",
       "      <td>0.13</td>\n",
       "      <td>0</td>\n",
       "    </tr>\n",
       "    <tr>\n",
       "      <th>117</th>\n",
       "      <td>W2</td>\n",
       "      <td>34806</td>\n",
       "      <td>19.927558</td>\n",
       "      <td>0.25</td>\n",
       "      <td>0</td>\n",
       "    </tr>\n",
       "    <tr>\n",
       "      <th>118</th>\n",
       "      <td>W2</td>\n",
       "      <td>52162</td>\n",
       "      <td>NaN</td>\n",
       "      <td>21.76</td>\n",
       "      <td>1</td>\n",
       "    </tr>\n",
       "  </tbody>\n",
       "</table>\n",
       "<p>119 rows × 5 columns</p>\n",
       "</div>"
      ],
      "text/plain": [
       "    filter   time     newmag  magerr  upperlimit\n",
       "0        V     66  13.210000    0.24           0\n",
       "1        V     67  12.900000    0.23           0\n",
       "2        V     68  12.860000    0.23           0\n",
       "3        V     69  13.010000    0.23           0\n",
       "4        V     70  12.970000    0.23           0\n",
       "5        V     71  13.310000    0.23           0\n",
       "6        V     72  13.130000    0.23           0\n",
       "7        V     73  13.010000    0.23           0\n",
       "8        V     78  13.130000    0.10           0\n",
       "9        V     83  13.260000    0.10           0\n",
       "10       V     88  13.180000    0.10           0\n",
       "11       V     93  13.240000    0.11           0\n",
       "12       V     98  13.250000    0.11           0\n",
       "13       V    103  13.510000    0.11           0\n",
       "14       V    108  13.440000    0.11           0\n",
       "15       V    113  13.670000    0.11           0\n",
       "16       V    118  13.480000    0.11           0\n",
       "17       V    123  13.620000    0.11           0\n",
       "18       V    128  13.860000    0.12           0\n",
       "19       V    133  13.700000    0.11           0\n",
       "20       V    138  13.830000    0.12           0\n",
       "21       V    143  13.810000    0.12           0\n",
       "22       V    148  13.840000    0.12           0\n",
       "23       V    153  13.870000    0.12           0\n",
       "24       V    158  14.060000    0.12           0\n",
       "25       V    163  14.000000    0.12           0\n",
       "26       V    168  14.010000    0.12           0\n",
       "27       V    173  14.080000    0.13           0\n",
       "28       V    258  14.640000    0.14           0\n",
       "29       V    342  14.790000    0.15           0\n",
       "..     ...    ...        ...     ...         ...\n",
       "89      W1  52100        NaN   21.05           1\n",
       "90      W1  63738        NaN   21.20           1\n",
       "91      M2    187  14.189034    0.10           0\n",
       "92      M2    272  14.969034    0.14           0\n",
       "93      M2    356  15.249034    0.16           0\n",
       "94      M2    440  15.589034    0.19           0\n",
       "95      M2    525  16.489034    0.30           0\n",
       "96      M2    609  15.549034    0.19           0\n",
       "97      M2    694  15.829034    0.21           0\n",
       "98      M2    778  16.159034    0.26           0\n",
       "99      M2    863  16.219034    0.26           0\n",
       "100     M2    947  16.309034    0.27           0\n",
       "101     M2   5984  17.749034    0.06           0\n",
       "102     M2  24007  19.609034    0.19           0\n",
       "103     M2  39683  20.369034    0.30           0\n",
       "104     M2  51257  20.989034    0.48           0\n",
       "105     M2  74798        NaN   21.59           1\n",
       "106     W2    245  14.567558    0.11           0\n",
       "107     W2    329  15.177558    0.16           0\n",
       "108     W2    413  15.007558    0.14           0\n",
       "109     W2    498  15.477558    0.18           0\n",
       "110     W2    582  15.097558    0.15           0\n",
       "111     W2    666  15.677558    0.20           0\n",
       "112     W2    751  15.597558    0.19           0\n",
       "113     W2    835  16.307558    0.27           0\n",
       "114     W2    920  16.087558    0.25           0\n",
       "115     W2   1140  16.227558    0.08           0\n",
       "116     W2  17973  18.867558    0.13           0\n",
       "117     W2  34806  19.927558    0.25           0\n",
       "118     W2  52162        NaN   21.76           1\n",
       "\n",
       "[119 rows x 5 columns]"
      ]
     },
     "execution_count": 41,
     "metadata": {},
     "output_type": "execute_result"
    }
   ],
   "source": [
    "grb050525A[[\"filter\", \"time\", \"newmag\", \n",
    "            \"magerr\", \"upperlimit\" ]]"
   ]
  },
  {
   "cell_type": "code",
   "execution_count": 42,
   "metadata": {
    "ExecuteTime": {
     "end_time": "2020-02-12T12:21:22.135854Z",
     "start_time": "2020-02-12T12:21:22.127531Z"
    }
   },
   "outputs": [],
   "source": [
    "grb050525A[[\"filter\", \"time\", \"newmag\", \n",
    "            \"magerr\", \"upperlimit\" ]].rename({\"newmag\":\"mag\"}, axis=1).sort_values(by=\"time\").to_csv(\"grb050525A.csv\", index=False)"
   ]
  },
  {
   "cell_type": "code",
   "execution_count": 53,
   "metadata": {
    "ExecuteTime": {
     "end_time": "2020-02-12T12:22:38.347209Z",
     "start_time": "2020-02-12T12:22:38.341522Z"
    }
   },
   "outputs": [],
   "source": [
    "grb050525A_notna = grb050525A[[\"filter\", \"time\", \"logtime\",\"mag\", \n",
    "            \"magerr\", \"upperlimit\" ]].dropna()"
   ]
  },
  {
   "cell_type": "code",
   "execution_count": 54,
   "metadata": {
    "ExecuteTime": {
     "end_time": "2020-02-12T12:22:40.219330Z",
     "start_time": "2020-02-12T12:22:40.213540Z"
    }
   },
   "outputs": [
    {
     "data": {
      "text/plain": [
       "array([13.21, 12.9 , 12.86, 13.01, 12.97, 13.31, 13.13, 13.01, 13.13,\n",
       "       13.26, 13.18, 13.24, 13.25, 13.51, 13.44, 13.67, 13.48, 13.62,\n",
       "       13.86, 13.7 , 13.83, 13.81, 13.84, 13.87, 14.06, 14.  , 14.01,\n",
       "       14.08, 14.64, 14.79, 15.22, 15.47, 16.06, 15.83, 16.06, 15.78,\n",
       "       15.85, 16.34, 18.15, 19.1 , 18.86, 14.79, 15.19, 15.51, 15.63,\n",
       "       15.7 , 16.13, 16.03, 16.56, 16.44, 16.61, 18.59, 18.69, 19.82,\n",
       "       20.84, 13.7 , 14.08, 14.47, 15.29, 15.32, 17.66, 14.71, 14.97,\n",
       "       15.01, 15.14, 15.46, 18.85, 18.79, 19.99, 13.61, 14.18, 14.77,\n",
       "       15.1 , 15.22, 15.26, 15.22, 15.88, 16.15, 15.76, 17.33, 19.49,\n",
       "       20.33, 13.54, 14.32, 14.6 , 14.94, 15.84, 14.9 , 15.18, 15.51,\n",
       "       15.57, 15.66, 17.1 , 18.96, 19.72, 20.34, 14.69, 15.3 , 15.13,\n",
       "       15.6 , 15.22, 15.8 , 15.72, 16.43, 16.21, 16.35, 18.99, 20.05])"
      ]
     },
     "execution_count": 54,
     "metadata": {},
     "output_type": "execute_result"
    }
   ],
   "source": [
    "y = grb050525A_notna.mag.values\n",
    "y"
   ]
  },
  {
   "cell_type": "code",
   "execution_count": 55,
   "metadata": {
    "ExecuteTime": {
     "end_time": "2020-02-12T12:22:40.637994Z",
     "start_time": "2020-02-12T12:22:40.633989Z"
    }
   },
   "outputs": [
    {
     "data": {
      "text/plain": [
       "array([[   66,    67,    68,    69,    70,    71,    72,    73,    78,\n",
       "           83,    88,    93,    98,   103,   108,   113,   118,   123,\n",
       "          128,   133,   138,   143,   148,   153,   158,   163,   168,\n",
       "          173,   258,   342,   426,   511,   595,   680,   764,   849,\n",
       "          933,  1243, 18575, 22163, 35638,   229,   313,   397,   482,\n",
       "          571,   651,   735,   820,   904,  1034, 12671, 16182, 30031,\n",
       "        33898,   215,   299,   419,   890,   975, 12019,   468,   552,\n",
       "          637,   721,   805, 28664, 29380, 41040,   202,   286,   370,\n",
       "          455,   539,   624,   708,   792,   877,   961,  6761, 28111,\n",
       "        40585,   187,   272,   356,   440,   525,   609,   694,   778,\n",
       "          863,   947,  5984, 24007, 39683, 51257,   245,   329,   413,\n",
       "          498,   582,   666,   751,   835,   920,  1140, 17973, 34806]])"
      ]
     },
     "execution_count": 55,
     "metadata": {},
     "output_type": "execute_result"
    }
   ],
   "source": [
    "x = np.atleast_2d(grb050525A_notna.time)\n",
    "x"
   ]
  },
  {
   "cell_type": "code",
   "execution_count": 56,
   "metadata": {
    "ExecuteTime": {
     "end_time": "2020-02-12T12:22:41.081543Z",
     "start_time": "2020-02-12T12:22:41.076758Z"
    }
   },
   "outputs": [],
   "source": [
    "c = np.zeros((len(grb050525A_notna), len(grb050525A_notna)))\n",
    "for i in range(len(grb050525A_notna)):\n",
    "    c[i,i] = grb050525A_notna.magerr.values[i]\n",
    "c = np.matrix(c), np.linalg.inv(c)"
   ]
  },
  {
   "cell_type": "code",
   "execution_count": 57,
   "metadata": {
    "ExecuteTime": {
     "end_time": "2020-02-12T12:22:41.742877Z",
     "start_time": "2020-02-12T12:22:41.732599Z"
    }
   },
   "outputs": [
    {
     "ename": "ValueError",
     "evalue": "shapes (108,1) and (2,108,108) not aligned: 1 (dim 1) != 108 (dim 1)",
     "output_type": "error",
     "traceback": [
      "\u001b[0;31m---------------------------------------------------------------------------\u001b[0m",
      "\u001b[0;31mValueError\u001b[0m                                Traceback (most recent call last)",
      "\u001b[0;32m<ipython-input-57-bc3ac12c1104>\u001b[0m in \u001b[0;36m<module>\u001b[0;34m\u001b[0m\n\u001b[0;32m----> 1\u001b[0;31m \u001b[0mnp\u001b[0m\u001b[0;34m.\u001b[0m\u001b[0mlinalg\u001b[0m\u001b[0;34m.\u001b[0m\u001b[0minv\u001b[0m \u001b[0;34m(\u001b[0m\u001b[0mx\u001b[0m\u001b[0;34m.\u001b[0m\u001b[0mT\u001b[0m\u001b[0;34m.\u001b[0m\u001b[0mdot\u001b[0m\u001b[0;34m(\u001b[0m\u001b[0mnp\u001b[0m\u001b[0;34m.\u001b[0m\u001b[0mlinalg\u001b[0m\u001b[0;34m.\u001b[0m\u001b[0minv\u001b[0m\u001b[0;34m(\u001b[0m\u001b[0mc\u001b[0m\u001b[0;34m)\u001b[0m\u001b[0;34m)\u001b[0m\u001b[0;34m.\u001b[0m\u001b[0mdot\u001b[0m\u001b[0;34m(\u001b[0m\u001b[0mx\u001b[0m\u001b[0;34m)\u001b[0m\u001b[0;34m)\u001b[0m\u001b[0;34m.\u001b[0m\u001b[0mdot\u001b[0m\u001b[0;34m(\u001b[0m\u001b[0;34m(\u001b[0m\u001b[0mx\u001b[0m\u001b[0;34m.\u001b[0m\u001b[0mT\u001b[0m\u001b[0;34m.\u001b[0m\u001b[0mdot\u001b[0m\u001b[0;34m(\u001b[0m\u001b[0mnp\u001b[0m\u001b[0;34m.\u001b[0m\u001b[0mlinalg\u001b[0m\u001b[0;34m.\u001b[0m\u001b[0minv\u001b[0m\u001b[0;34m(\u001b[0m\u001b[0mc\u001b[0m\u001b[0;34m)\u001b[0m\u001b[0;34m)\u001b[0m\u001b[0;34m.\u001b[0m\u001b[0mdot\u001b[0m\u001b[0;34m(\u001b[0m\u001b[0my\u001b[0m\u001b[0;34m)\u001b[0m\u001b[0;34m)\u001b[0m\u001b[0;34m)\u001b[0m\u001b[0;34m\u001b[0m\u001b[0;34m\u001b[0m\u001b[0m\n\u001b[0m",
      "\u001b[0;31mValueError\u001b[0m: shapes (108,1) and (2,108,108) not aligned: 1 (dim 1) != 108 (dim 1)"
     ]
    }
   ],
   "source": [
    "np.linalg.inv (x.T.dot(np.linalg.inv(c)).dot(x)).dot((x.T.dot(np.linalg.inv(c)).dot(y)))"
   ]
  },
  {
   "cell_type": "code",
   "execution_count": 59,
   "metadata": {
    "ExecuteTime": {
     "end_time": "2020-02-12T12:22:49.316947Z",
     "start_time": "2020-02-12T12:22:49.314067Z"
    }
   },
   "outputs": [],
   "source": [
    "y = grb050525A_notna.mag\n",
    "s = grb050525A_notna.magerr\n",
    "x = grb050525A_notna.logtime"
   ]
  },
  {
   "cell_type": "code",
   "execution_count": 74,
   "metadata": {
    "ExecuteTime": {
     "end_time": "2020-02-12T12:26:52.237177Z",
     "start_time": "2020-02-12T12:26:52.225181Z"
    }
   },
   "outputs": [
    {
     "name": "stdout",
     "output_type": "stream",
     "text": [
      "fit parameters [2.30241424 8.8735603 ] \n",
      " covariance matrix\n",
      " [[ 0.00265263 -0.00713928]\n",
      " [-0.00713928  0.02049531]]\n"
     ]
    }
   ],
   "source": [
    "import scipy as sp\n",
    "from scipy import optimize\n",
    "def line(x, a, b):\n",
    "    \"\"\"\n",
    "    Takes two parameters (a and b) along with an array of x values. Returns y array.\n",
    "    \"\"\"\n",
    "  \n",
    "    return a * x + b\n",
    "popt0, pcov0 = sp.optimize.curve_fit(line, x, y, p0=[2.5, 0], sigma=s)\n",
    "\n",
    "print(\"fit parameters\", popt0, \"\\n\", \n",
    "      \"covariance matrix\\n\", pcov0)\n",
    "#f"
   ]
  },
  {
   "cell_type": "code",
   "execution_count": 75,
   "metadata": {
    "ExecuteTime": {
     "end_time": "2020-02-12T12:26:53.031970Z",
     "start_time": "2020-02-12T12:26:53.026414Z"
    }
   },
   "outputs": [
    {
     "data": {
      "text/plain": [
       "array([1.81954394, 1.8260748 , 1.83250891, 1.83884909, 1.84509804,\n",
       "       1.85125835, 1.8573325 , 1.86332286, 1.8920946 , 1.91907809,\n",
       "       1.94448267, 1.96848295, 1.99122608, 2.01283722, 2.03342376,\n",
       "       2.05307844, 2.07188201, 2.08990511, 2.10720997, 2.12385164,\n",
       "       2.13987909, 2.15533604, 2.17026172, 2.18469143, 2.19865709,\n",
       "       2.2121876 , 2.22530928, 2.2380461 , 2.27184161, 2.30535137,\n",
       "       2.33243846, 2.35983548, 2.38916608, 2.41161971, 2.4345689 ,\n",
       "       2.45636603, 2.47567119, 2.49554434, 2.5171959 , 2.53402611,\n",
       "       2.55145   , 2.56820172, 2.59879051, 2.61595005, 2.62221402,\n",
       "       2.6294096 , 2.64345268, 2.6580114 , 2.67024585, 2.68304704,\n",
       "       2.69722934, 2.7084209 , 2.7201593 , 2.73158877, 2.74193908,\n",
       "       2.75663611, 2.76492298, 2.77451697, 2.78461729, 2.79518459,\n",
       "       2.80413943, 2.81358099, 2.82347423, 2.83250891, 2.84135947,\n",
       "       2.85003326, 2.85793526, 2.86628734, 2.87563994, 2.88309336,\n",
       "       2.8909796 , 2.89872518, 2.90579588, 2.91381385, 2.92168648,\n",
       "       2.92890769, 2.9360108 , 2.94299959, 2.94939001, 2.95616843,\n",
       "       2.96378783, 2.96988164, 2.97634998, 2.98272339, 2.98900462,\n",
       "       3.01452054, 3.05690485, 3.09447113, 3.77699158, 3.83001094,\n",
       "       4.07986834, 4.10281089, 4.2090322 , 4.25462057, 4.26892882,\n",
       "       4.34562855, 4.38033789, 4.4488763 , 4.4573368 , 4.46805179,\n",
       "       4.47756979, 4.53017408, 4.54165412, 4.55191332, 4.5986045 ,\n",
       "       4.60836555, 4.61320735, 4.70975318])"
      ]
     },
     "execution_count": 75,
     "metadata": {},
     "output_type": "execute_result"
    }
   ],
   "source": [
    "np.sort(x)"
   ]
  },
  {
   "cell_type": "code",
   "execution_count": 76,
   "metadata": {
    "ExecuteTime": {
     "end_time": "2020-02-12T12:26:57.485292Z",
     "start_time": "2020-02-12T12:26:57.310777Z"
    }
   },
   "outputs": [
    {
     "data": {
      "image/png": "[encoded data removed]",
      "text/plain": [
       "<Figure size 720x720 with 1 Axes>"
      ]
     },
     "metadata": {
      "needs_background": "light"
     },
     "output_type": "display_data"
    }
   ],
   "source": [
    "pl.figure(figsize=(10,10))\n",
    "ind = grb050525A.magerr > 0#(grb050525A[\"filter\"] == \"V\")+ (grb050525A[\"filter\"]  == \"B\") + \\\n",
    "      #     (grb050525A[\"filter\"]  == \"U\")\n",
    "pl.errorbar(grb050525A[\"logtime\"], grb050525A[\"newmag\"], \n",
    "            alpha=1, yerr=grb050525A[\"magerr\"], fmt='.', ms=0,\n",
    "            ecolor=grb050525A[\"color\"], fcolor=None)\n",
    "pl.scatter(grb050525A[\"logtime\"], grb050525A[\"newmag\"], alpha=1, \n",
    "           edgecolor=grb050525A[\"color\"], facecolors='none')\n",
    "nuplim = grb050525A.mag.isna().sum()\n",
    "for i in grb050525A[grb050525A.mag.isna()].index:\n",
    "    pl.arrow(grb050525A.loc[i].logtime, \n",
    "         grb050525A.loc[i].uplimmag, 0, 1, fc=grb050525A.loc[i].color,\n",
    "            head_width=0.05, head_length=0.1, ec=grb050525A.loc[i].color)\n",
    "pl.plot(x, popt0[0] * x + popt0[1])\n",
    "pl.ylim(23,10)\n",
    "pl.ylabel(\"magnitude\")\n",
    "pl.xlabel(\"log time\");"
   ]
  },
  {
   "cell_type": "code",
   "execution_count": 77,
   "metadata": {
    "ExecuteTime": {
     "end_time": "2020-02-12T12:27:10.511631Z",
     "start_time": "2020-02-12T12:27:10.507600Z"
    }
   },
   "outputs": [
    {
     "name": "stdout",
     "output_type": "stream",
     "text": [
      "line model - no uncertainties\n",
      "slope = 2.3 +/- 0.052\n",
      "intercept = 8.9 +/- 0.14\n",
      "parameters covariance = -0.0071\n"
     ]
    }
   ],
   "source": [
    "print (\"line model - no uncertainties\")\n",
    "\n",
    "print(\"slope = {:.2} +/- {:.2}\".format(popt0[0], np.sqrt(pcov0[0,0])))\n",
    "print(\"intercept = {:.2} +/- {:.2}\".format(popt0[1], np.sqrt(pcov0[1,1])))\n",
    "print(\"parameters covariance = {:.2}\".format(pcov0[1,0]))\n"
   ]
  },
  {
   "cell_type": "code",
   "execution_count": 62,
   "metadata": {
    "ExecuteTime": {
     "end_time": "2020-02-12T12:22:58.637768Z",
     "start_time": "2020-02-12T12:22:58.632229Z"
    }
   },
   "outputs": [],
   "source": [
    "def log_likelihood(theta, x, y, yerr):\n",
    "    m, b= theta\n",
    "    model = m * x + b\n",
    "    sigma2 = yerr**2 + model**2\n",
    "    return -0.5*np.sum((y-model)**2/sigma2)\n",
    "\n",
    "def log_prior(theta):\n",
    "    m, b= theta\n",
    "    if -5.0 < m < 5 and -20 < b < 20.0 :\n",
    "        return 0.0\n",
    "    return -np.inf\n",
    "\n",
    "def log_probability(theta, x, y, yerr):\n",
    "    lp = log_prior(theta)\n",
    "    if not np.isfinite(lp):\n",
    "        return -np.inf\n",
    "    return lp + log_likelihood(theta, x, y, yerr)\n"
   ]
  },
  {
   "cell_type": "code",
   "execution_count": 63,
   "metadata": {
    "ExecuteTime": {
     "end_time": "2020-02-12T12:22:59.402598Z",
     "start_time": "2020-02-12T12:22:59.392896Z"
    }
   },
   "outputs": [
    {
     "ename": "NameError",
     "evalue": "name 'emcee' is not defined",
     "output_type": "error",
     "traceback": [
      "\u001b[0;31m---------------------------------------------------------------------------\u001b[0m",
      "\u001b[0;31mNameError\u001b[0m                                 Traceback (most recent call last)",
      "\u001b[0;32m<ipython-input-63-eef92b920c3b>\u001b[0m in \u001b[0;36m<module>\u001b[0;34m\u001b[0m\n\u001b[1;32m      2\u001b[0m \u001b[0mnwalkers\u001b[0m\u001b[0;34m,\u001b[0m \u001b[0mndim\u001b[0m \u001b[0;34m=\u001b[0m \u001b[0mpos\u001b[0m\u001b[0;34m.\u001b[0m\u001b[0mshape\u001b[0m\u001b[0;34m\u001b[0m\u001b[0;34m\u001b[0m\u001b[0m\n\u001b[1;32m      3\u001b[0m \u001b[0;34m\u001b[0m\u001b[0m\n\u001b[0;32m----> 4\u001b[0;31m sampler = emcee.EnsembleSampler(nwalkers, ndim, \n\u001b[0m\u001b[1;32m      5\u001b[0m                                 log_probability, args=(x,y,s))\n\u001b[1;32m      6\u001b[0m \u001b[0;34m\u001b[0m\u001b[0m\n",
      "\u001b[0;31mNameError\u001b[0m: name 'emcee' is not defined"
     ]
    }
   ],
   "source": [
    "pos = popt0 + 1e-4 * np.random.randn(50, 2)\n",
    "nwalkers, ndim = pos.shape\n",
    "\n",
    "sampler = emcee.EnsembleSampler(nwalkers, ndim, \n",
    "                                log_probability, args=(x,y,s))\n",
    "\n",
    "sampler.run_mcmc(pos, 2000, progress=True);"
   ]
  },
  {
   "cell_type": "code",
   "execution_count": null,
   "metadata": {},
   "outputs": [],
   "source": []
  }
 ],
 "metadata": {
  "kernelspec": {
   "display_name": "Python 3",
   "language": "python",
   "name": "python3"
  },
  "language_info": {
   "codemirror_mode": {
    "name": "ipython",
    "version": 3
   },
   "file_extension": ".py",
   "mimetype": "text/x-python",
   "name": "python",
   "nbconvert_exporter": "python",
   "pygments_lexer": "ipython3",
   "version": "3.7.3"
  },
  "latex_envs": {
   "LaTeX_envs_menu_present": true,
   "autoclose": false,
   "autocomplete": true,
   "bibliofile": "biblio.bib",
   "cite_by": "apalike",
   "current_citInitial": 1,
   "eqLabelWithNumbers": true,
   "eqNumInitial": 1,
   "hotkeys": {
    "equation": "Ctrl-E",
    "itemize": "Ctrl-I"
   },
   "labels_anchors": false,
   "latex_user_defs": false,
   "report_style_numbering": false,
   "user_envs_cfg": false
  },
  "nbTranslate": {
   "displayLangs": [
    "*"
   ],
   "hotkey": "alt-t",
   "langInMainMenu": true,
   "sourceLang": "en",
   "targetLang": "fr",
   "useGoogleTranslate": true
  },
  "toc": {
   "base_numbering": 1,
   "nav_menu": {},
   "number_sections": true,
   "sideBar": true,
   "skip_h1_title": false,
   "title_cell": "Table of Contents",
   "title_sidebar": "Contents",
   "toc_cell": false,
   "toc_position": {},
   "toc_section_display": true,
   "toc_window_display": false
  }
 },
 "nbformat": 4,
 "nbformat_minor": 2
}
